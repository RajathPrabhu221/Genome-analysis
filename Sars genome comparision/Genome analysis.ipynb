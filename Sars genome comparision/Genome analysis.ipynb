{
 "cells": [
  {
   "cell_type": "code",
   "execution_count": 5,
   "metadata": {
    "scrolled": false
   },
   "outputs": [
    {
     "name": "stdout",
     "output_type": "stream",
     "text": [
      "Total number of nucleotides: 29903\n",
      "Total number of codons:  9967\n",
      "0       8\n",
      "1      13\n",
      "2      14\n",
      "3       5\n",
      "4       7\n",
      "       ..\n",
      "770    15\n",
      "771    43\n",
      "772     1\n",
      "773     0\n",
      "774    16\n",
      "Name: count, Length: 775, dtype: int64\n",
      "10 common amino acids: [('L', 886), ('S', 810), ('*', 774), ('T', 679), ('C', 635), ('F', 593), ('R', 558), ('V', 548), ('Y', 505), ('N', 472)]\n",
      "<Chain id=A>\n",
      "<Chain id=C>\n"
     ]
    },
    {
     "name": "stderr",
     "output_type": "stream",
     "text": [
      "c:\\python\\python38-32\\lib\\site-packages\\Bio\\Seq.py:2738: BiopythonWarning: Partial codon, len(sequence) not a multiple of three. Explicitly trim the sequence or add trailing N before translation. This may become an error in future.\n",
      "  warnings.warn(\n",
      "c:\\python\\python38-32\\lib\\site-packages\\Bio\\PDB\\StructureBuilder.py:89: PDBConstructionWarning: WARNING: Chain A is discontinuous at line 2844.\n",
      "  warnings.warn(\n"
     ]
    },
    {
     "data": {
      "application/vnd.jupyter.widget-view+json": {
       "model_id": "4613d02afa4d46fc9bd8ea15a4b9a754",
       "version_major": 2,
       "version_minor": 0
      },
      "text/plain": [
       "NGLWidget()"
      ]
     },
     "metadata": {},
     "output_type": "display_data"
    }
   ],
   "source": [
    "import Bio\n",
    "from Bio.Seq import Seq\n",
    "from Bio.Alphabet import generic_dna,generic_rna,generic_protein\n",
    "from Bio import SeqIO\n",
    "import pandas as pd\n",
    "from collections import Counter\n",
    "from Bio.PDB import PDBParser\n",
    "import nglview as nv\n",
    "\n",
    "\n",
    "for record in SeqIO.parse(\"sequence.fasta\",\"fasta\"):\n",
    "\tncov_record=SeqIO.read(\"sequence.fasta\",\"fasta\")\n",
    "\tncov_dna=ncov_record.seq\n",
    "\n",
    "\t# print(ncov_dna)\n",
    "\tprint(\"Total number of nucleotides:\",len(ncov_dna))\n",
    "#Transcription to mrna\n",
    "ncov_mrna=ncov_dna.transcribe()\n",
    "\n",
    "\n",
    "#protein translation\n",
    "ncov_protein=ncov_dna.translate()\n",
    "print(\"Total number of codons: \",len(ncov_protein))\n",
    "\n",
    "ncov_aa = ncov_protein.split(\"*\")\n",
    "ncov_clean=[str(i)for i in ncov_aa ]\n",
    "# print(ncov_aa)\n",
    "# print(\"Total number of proteins:\",len(ncov_aa))\n",
    "# print(ncov_clean)\n",
    "# print(len(ncov_clean))\n",
    "\n",
    "df = pd.DataFrame({'amino_acids':ncov_clean})\n",
    "df['count']=df['amino_acids'].str.len()\n",
    "df.head()\n",
    "\n",
    "#largest seq before *\n",
    "df.nlargest(10,\"count\")\n",
    "\n",
    "#count frequency of AA\n",
    "Counter(ncov_protein).most_common(10)\n",
    "print(df['count'])\n",
    "print(\"10 common amino acids:\",Counter(ncov_protein).most_common(10))\n",
    "\n",
    "\n",
    "parser=PDBParser()\n",
    "structure= parser.get_structure(\"6LU7\",\"6LU7.pdb\")\n",
    "model=structure[0]\n",
    "for chain in model:\n",
    "    print(chain)\n",
    "\n",
    "\n",
    "view = nv.show_biopython(structure)\n",
    "view\n"
   ]
  },
  {
   "cell_type": "code",
   "execution_count": 2,
   "metadata": {},
   "outputs": [
    {
     "name": "stdout",
     "output_type": "stream",
     "text": [
      "Total number of nucleotides: 29751\n",
      "number of codons: 9917\n",
      "0        21\n",
      "1        14\n",
      "2         5\n",
      "3        40\n",
      "4      4386\n",
      "       ... \n",
      "268       1\n",
      "269       1\n",
      "270       0\n",
      "271      10\n",
      "272      11\n",
      "Name: count, Length: 273, dtype: int64\n",
      "10 common amino acids: [('L', 1368), ('S', 737), ('T', 689), ('V', 683), ('A', 575), ('I', 566), ('K', 503), ('G', 438), ('F', 437), ('N', 418)]\n"
     ]
    },
    {
     "name": "stderr",
     "output_type": "stream",
     "text": [
      "c:\\python\\python38-32\\lib\\site-packages\\Bio\\PDB\\StructureBuilder.py:89: PDBConstructionWarning: WARNING: Chain A is discontinuous at line 5106.\n",
      "  warnings.warn(\n",
      "c:\\python\\python38-32\\lib\\site-packages\\Bio\\PDB\\StructureBuilder.py:89: PDBConstructionWarning: WARNING: Chain B is discontinuous at line 5250.\n",
      "  warnings.warn(\n"
     ]
    },
    {
     "data": {
      "application/vnd.jupyter.widget-view+json": {
       "model_id": "96cf1116c0c24711a76e7a6dab3ea577",
       "version_major": 2,
       "version_minor": 0
      },
      "text/plain": [
       "NGLWidget()"
      ]
     },
     "metadata": {},
     "output_type": "display_data"
    }
   ],
   "source": [
    "import Bio\n",
    "from Bio.Seq import Seq\n",
    "from Bio.Alphabet import generic_dna,generic_rna,generic_protein\n",
    "from Bio import SeqIO\n",
    "import pandas as pd\n",
    "from collections import Counter\n",
    "from Bio.PDB import PDBParser\n",
    "import nglview as nv\n",
    "\n",
    "\n",
    "for record in SeqIO.parse(\"sars.fasta\",\"fasta\"):\n",
    "\tncov_record=SeqIO.read(\"sars.fasta\",\"fasta\")\n",
    "\tncov_dna=ncov_record.seq\n",
    "\n",
    "\t# print(ncov_dna)\n",
    "\tprint(\"Total number of nucleotides:\",len(ncov_dna))\n",
    "#Transcription to mrna\n",
    "ncov_mrna=ncov_dna.transcribe()\n",
    "\n",
    "\n",
    "#protein translation\n",
    "ncov_protein=ncov_dna.translate()\n",
    "print(\"number of codons:\",len(ncov_protein))\n",
    "\n",
    "ncov_aa = ncov_protein.split(\"*\")\n",
    "ncov_clean=[str(i)for i in ncov_aa ]\n",
    "# print(ncov_aa)\n",
    "# print(len(ncov_aa))\n",
    "# print(ncov_clean)\n",
    "# print(len(ncov_clean))\n",
    "\n",
    "df = pd.DataFrame({'amino_acids':ncov_clean})\n",
    "df['count']=df['amino_acids'].str.len()\n",
    "df.head()\n",
    "\n",
    "#largest seq before *\n",
    "df.nlargest(10,\"count\")\n",
    "\n",
    "#count frequency of AA\n",
    "Counter(ncov_protein).most_common(10)\n",
    "print(df['count'])\n",
    "print(\"10 common amino acids:\",Counter(ncov_protein).most_common(10))\n",
    "\n",
    "\n",
    "parser=PDBParser()\n",
    "structure= parser.get_structure(\"sars\",\"sars.pdb\")\n",
    "model=structure[0]\n",
    "# for chain in model:\n",
    "#     for residues in chain:\n",
    "#         print(residues)\n",
    " \n",
    "\n",
    "view = nv.show_biopython(structure)\n",
    "view\n"
   ]
  },
  {
   "cell_type": "code",
   "execution_count": 3,
   "metadata": {},
   "outputs": [
    {
     "name": "stdout",
     "output_type": "stream",
     "text": [
      "Total number of nucleotides: 30119\n",
      "Number of codons: 10039\n",
      "0       4\n",
      "1      13\n",
      "2       1\n",
      "3       2\n",
      "4      24\n",
      "       ..\n",
      "685    10\n",
      "686     5\n",
      "687     4\n",
      "688     5\n",
      "689     5\n",
      "Name: count, Length: 690, dtype: int64\n",
      "10 common amino acids: [('L', 1711), ('S', 852), ('*', 689), ('V', 651), ('I', 565), ('T', 564), ('R', 520), ('C', 506), ('F', 453), ('A', 418)]\n"
     ]
    },
    {
     "name": "stderr",
     "output_type": "stream",
     "text": [
      "c:\\python\\python38-32\\lib\\site-packages\\Bio\\Seq.py:2738: BiopythonWarning: Partial codon, len(sequence) not a multiple of three. Explicitly trim the sequence or add trailing N before translation. This may become an error in future.\n",
      "  warnings.warn(\n"
     ]
    },
    {
     "data": {
      "application/vnd.jupyter.widget-view+json": {
       "model_id": "0b3a61b6002f47e6a800d0e8b2baaf84",
       "version_major": 2,
       "version_minor": 0
      },
      "text/plain": [
       "NGLWidget()"
      ]
     },
     "metadata": {},
     "output_type": "display_data"
    }
   ],
   "source": [
    "import Bio\n",
    "from Bio.Seq import Seq\n",
    "from Bio.Alphabet import generic_dna,generic_rna,generic_protein\n",
    "from Bio import SeqIO\n",
    "import pandas as pd\n",
    "from collections import Counter\n",
    "from Bio.PDB import PDBParser\n",
    "import nglview as nv\n",
    "\n",
    "\n",
    "for record in SeqIO.parse(\"mers.fasta\",\"fasta\"):\n",
    "\tncov_record=SeqIO.read(\"mers.fasta\",\"fasta\")\n",
    "\tncov_dna=ncov_record.seq\n",
    "\n",
    "\t# print(ncov_dna)\n",
    "\tprint(\"Total number of nucleotides:\",len(ncov_dna))\n",
    "#Transcription to mrna\n",
    "ncov_mrna=ncov_dna.transcribe()\n",
    "\n",
    "\n",
    "#protein translation\n",
    "ncov_protein=ncov_dna.translate()\n",
    "print(\"Number of codons:\",len(ncov_protein))\n",
    "\n",
    "ncov_aa = ncov_protein.split(\"*\")\n",
    "ncov_clean=[str(i)for i in ncov_aa ]\n",
    "# print(ncov_aa)\n",
    "# print(len(ncov_aa))\n",
    "# print(ncov_clean)\n",
    "# print(len(ncov_clean))\n",
    "\n",
    "df = pd.DataFrame({'amino_acids':ncov_clean})\n",
    "df['count']=df['amino_acids'].str.len()\n",
    "df.head()\n",
    "\n",
    "#largest seq before *\n",
    "df.nlargest(10,\"count\")\n",
    "\n",
    "#count frequency of AA\n",
    "Counter(ncov_protein).most_common(10)\n",
    "print(df['count'])\n",
    "print(\"10 common amino acids:\",Counter(ncov_protein).most_common(10))\n",
    "\n",
    "\n",
    "parser=PDBParser()\n",
    "structure= parser.get_structure(\"mers\",\"mers.pdb\")\n",
    "model=structure[0]\n",
    "# for chain in model:\n",
    "#     for residues in chain:\n",
    "#         print(residues)\n",
    "\n",
    "view = nv.show_biopython(structure)\n",
    "view\n"
   ]
  },
  {
   "cell_type": "code",
   "execution_count": 4,
   "metadata": {},
   "outputs": [
    {
     "name": "stdout",
     "output_type": "stream",
     "text": [
      "Total number of nucleotides: 28975\n",
      "Number of codons: 9658\n",
      "0      11\n",
      "1       4\n",
      "2       2\n",
      "3      34\n",
      "4      14\n",
      "       ..\n",
      "719    11\n",
      "720     1\n",
      "721     0\n",
      "722     2\n",
      "723    11\n",
      "Name: count, Length: 724, dtype: int64\n",
      "10 common amino acids: [('L', 1597), ('V', 840), ('*', 723), ('S', 668), ('R', 599), ('C', 561), ('F', 521), ('I', 493), ('T', 445), ('A', 369)]\n"
     ]
    },
    {
     "name": "stderr",
     "output_type": "stream",
     "text": [
      "c:\\python\\python38-32\\lib\\site-packages\\Bio\\Seq.py:2738: BiopythonWarning: Partial codon, len(sequence) not a multiple of three. Explicitly trim the sequence or add trailing N before translation. This may become an error in future.\n",
      "  warnings.warn(\n",
      "c:\\python\\python38-32\\lib\\site-packages\\Bio\\PDB\\StructureBuilder.py:89: PDBConstructionWarning: WARNING: Chain A is discontinuous at line 9870.\n",
      "  warnings.warn(\n",
      "c:\\python\\python38-32\\lib\\site-packages\\Bio\\PDB\\StructureBuilder.py:89: PDBConstructionWarning: WARNING: Chain B is discontinuous at line 9872.\n",
      "  warnings.warn(\n",
      "c:\\python\\python38-32\\lib\\site-packages\\Bio\\PDB\\StructureBuilder.py:89: PDBConstructionWarning: WARNING: Chain A is discontinuous at line 9966.\n",
      "  warnings.warn(\n",
      "c:\\python\\python38-32\\lib\\site-packages\\Bio\\PDB\\StructureBuilder.py:89: PDBConstructionWarning: WARNING: Chain B is discontinuous at line 10244.\n",
      "  warnings.warn(\n"
     ]
    },
    {
     "data": {
      "application/vnd.jupyter.widget-view+json": {
       "model_id": "4c994c5833e94ce89e4c09d28cb6f88d",
       "version_major": 2,
       "version_minor": 0
      },
      "text/plain": [
       "NGLWidget()"
      ]
     },
     "metadata": {},
     "output_type": "display_data"
    }
   ],
   "source": [
    "import Bio\n",
    "from Bio.Seq import Seq\n",
    "from Bio.Alphabet import generic_dna,generic_rna,generic_protein\n",
    "from Bio import SeqIO\n",
    "import pandas as pd\n",
    "from collections import Counter\n",
    "from Bio.PDB import PDBParser\n",
    "import nglview as nv\n",
    "\n",
    "\n",
    "for record in SeqIO.parse(\"batcov.fasta\",\"fasta\"):\n",
    "\tncov_record=SeqIO.read(\"batcov.fasta\",\"fasta\")\n",
    "\tncov_dna=ncov_record.seq\n",
    "\n",
    "\t# print(ncov_dna)\n",
    "\tprint(\"Total number of nucleotides:\",len(ncov_dna))\n",
    "#Transcription to mrna\n",
    "ncov_mrna=ncov_dna.transcribe()\n",
    "\n",
    "\n",
    "#protein translation\n",
    "ncov_protein=ncov_dna.translate()\n",
    "print(\"Number of codons:\",len(ncov_protein))\n",
    "\n",
    "ncov_aa = ncov_protein.split(\"*\")\n",
    "ncov_clean=[str(i)for i in ncov_aa ]\n",
    "# print(ncov_aa)\n",
    "# print(len(ncov_aa))\n",
    "# print(ncov_clean)\n",
    "# print(len(ncov_clean))\n",
    "\n",
    "df = pd.DataFrame({'amino_acids':ncov_clean})\n",
    "df['count']=df['amino_acids'].str.len()\n",
    "df.head()\n",
    "\n",
    "#largest seq before *\n",
    "df.nlargest(10,\"count\")\n",
    "\n",
    "#count frequency of AA\n",
    "Counter(ncov_protein).most_common(10)\n",
    "print(df['count'])\n",
    "print(\"10 common amino acids:\",Counter(ncov_protein).most_common(10))\n",
    "\n",
    "\n",
    "parser=PDBParser()\n",
    "structure= parser.get_structure(\"batcov\",\"batcov.pdb\")\n",
    "model=structure[0]\n",
    "# for chain in model:\n",
    "#     for residues in chain:\n",
    "#         print(residues)\n",
    "\n",
    "view = nv.show_biopython(structure)\n",
    "\n",
    "view\n"
   ]
  },
  {
   "cell_type": "code",
   "execution_count": null,
   "metadata": {},
   "outputs": [],
   "source": []
  },
  {
   "cell_type": "code",
   "execution_count": null,
   "metadata": {},
   "outputs": [],
   "source": []
  },
  {
   "cell_type": "code",
   "execution_count": null,
   "metadata": {},
   "outputs": [],
   "source": []
  },
  {
   "cell_type": "code",
   "execution_count": null,
   "metadata": {},
   "outputs": [],
   "source": []
  }
 ],
 "metadata": {
  "kernelspec": {
   "display_name": "Python 3",
   "language": "python",
   "name": "python3"
  },
  "language_info": {
   "codemirror_mode": {
    "name": "ipython",
    "version": 3
   },
   "file_extension": ".py",
   "mimetype": "text/x-python",
   "name": "python",
   "nbconvert_exporter": "python",
   "pygments_lexer": "ipython3",
   "version": "3.8.3"
  }
 },
 "nbformat": 4,
 "nbformat_minor": 4
}
